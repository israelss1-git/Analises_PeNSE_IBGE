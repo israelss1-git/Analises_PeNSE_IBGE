{
  "nbformat": 4,
  "nbformat_minor": 0,
  "metadata": {
    "colab": {
      "name": "AnalisePeNSE_Mova2.ipynb",
      "provenance": []
    },
    "kernelspec": {
      "name": "python3",
      "display_name": "Python 3"
    },
    "language_info": {
      "name": "python"
    }
  },
  "cells": [
    {
      "cell_type": "markdown",
      "metadata": {
        "id": "QWZWGj1QuBLY"
      },
      "source": [
        "# Case de análise de dados\n",
        "![Mova](https://mova.vc/img/logo_beta.svg)\n",
        "\n",
        "* Nome: Israel Silva de Souza\n",
        "\n",
        "**Solicitação:**\n",
        "Pedimos que faça uma análise de dados e nos envie em um vídeo de até três (3) minutos, pontuando claramente as tecnologias utilizadas.\n",
        "Pode ser feito uma análise de dados de um trabalho pessoal ou de mercado, como a Bolsa de Valores, por exemplo.\n",
        "\n",
        "**Dataset:** [IBGE PeNSE - 2015](https://www.ibge.gov.br/estatisticas/downloads-estatisticas.html?caminho=pense/2015/microdados/)\n",
        "\n",
        "**Pesquisa Nacional de Saúde Escolar - PeNSE**. Investiga informações que permitem conhecer e dimensionar os fatores de risco e proteção à saúde dos adolescentes. A pesquisa é realizada por amostragem, utilizando como referência para seleção o cadastro das escolas públicas e privadas do Instituto Nacional de Estudos e Pesquisas Educacionais Anísio Teixeira - INEP.  \n",
        "\n",
        "A pesquisa foi direciona a escolares com idade de 13 a 17 anos de idade e escolares frequentando as etapas do sexto ano à terceira séria do ensino médio.\n",
        "\n",
        "**Proposta:** Comparação indice de massa corporal (IMC) com o nível de satisfação declarado do aluno, nas classe de sexo masculino e feminino.\n",
        "\n"
      ]
    },
    {
      "cell_type": "markdown",
      "metadata": {
        "id": "Da2a29BIZ-QE"
      },
      "source": [
        "## Leitura dos dados"
      ]
    },
    {
      "cell_type": "code",
      "metadata": {
        "id": "l3lKSOGOuAC-"
      },
      "source": [
        "import pandas as pd\n",
        "import seaborn as sns\n",
        "import numpy as np\n",
        "\n",
        "# Dataset ficou hospedado numa conta do google drive por causa do tamanho de 38MB\n",
        "caminho = '/content/drive/MyDrive/PeNSE_2015_AMOSTRA2.zip'\n",
        "# Descompactando o arquivo\n",
        "zip = ZipFile(caminho)\n",
        "# caminho do arquivo descompactado\n",
        "path_unzip = zip.namelist()[1]\n",
        "# Lendo o arquivo e criando um dataframe pandas\n",
        "dados = pd.read_csv(zip.open(path_unzip), sep = \";\", thousands=\".\" , decimal=\",\")"
      ],
      "execution_count": 125,
      "outputs": []
    },
    {
      "cell_type": "code",
      "metadata": {
        "colab": {
          "base_uri": "https://localhost:8080/"
        },
        "id": "_RygDvxPiCnZ",
        "outputId": "561d4849-3a78-49fb-9929-e24a3344fb92"
      },
      "source": [
        "print(zip.namelist()[1])"
      ],
      "execution_count": 137,
      "outputs": [
        {
          "output_type": "stream",
          "text": [
            "arquivos csv/PENSE_AMOSTRA2_ALUNO.CSV\n"
          ],
          "name": "stdout"
        }
      ]
    },
    {
      "cell_type": "markdown",
      "metadata": {
        "id": "hOZiK1OIymp8"
      },
      "source": [
        "## Análise do dataframe"
      ]
    },
    {
      "cell_type": "markdown",
      "metadata": {
        "id": "GSAAFIo-YAB2"
      },
      "source": [
        "* 16556 instâncias.\n",
        "* 181 atributos com dados do tipo float e int.\n",
        "* Não observados atributos NaN"
      ]
    },
    {
      "cell_type": "code",
      "metadata": {
        "colab": {
          "base_uri": "https://localhost:8080/"
        },
        "id": "G3ISLBXzya3f",
        "outputId": "8322b0b1-ec81-414c-9b72-ecd17dda7e48"
      },
      "source": [
        "dados.info()"
      ],
      "execution_count": 126,
      "outputs": [
        {
          "output_type": "stream",
          "text": [
            "<class 'pandas.core.frame.DataFrame'>\n",
            "RangeIndex: 16556 entries, 0 to 16555\n",
            "Columns: 181 entries, ANOPESQ to turma\n",
            "dtypes: float64(10), int64(171)\n",
            "memory usage: 22.9 MB\n"
          ],
          "name": "stdout"
        }
      ]
    },
    {
      "cell_type": "code",
      "metadata": {
        "colab": {
          "base_uri": "https://localhost:8080/",
          "height": 253
        },
        "id": "l_uRAIdI0RKH",
        "outputId": "d496a734-bc60-4c5a-b38f-3fd5254d4e38"
      },
      "source": [
        "dados.head()"
      ],
      "execution_count": 127,
      "outputs": [
        {
          "output_type": "execute_result",
          "data": {
            "text/html": [
              "<div>\n",
              "<style scoped>\n",
              "    .dataframe tbody tr th:only-of-type {\n",
              "        vertical-align: middle;\n",
              "    }\n",
              "\n",
              "    .dataframe tbody tr th {\n",
              "        vertical-align: top;\n",
              "    }\n",
              "\n",
              "    .dataframe thead th {\n",
              "        text-align: right;\n",
              "    }\n",
              "</style>\n",
              "<table border=\"1\" class=\"dataframe\">\n",
              "  <thead>\n",
              "    <tr style=\"text-align: right;\">\n",
              "      <th></th>\n",
              "      <th>ANOPESQ</th>\n",
              "      <th>PAIS</th>\n",
              "      <th>REGEOGR</th>\n",
              "      <th>VB00004</th>\n",
              "      <th>VB01001</th>\n",
              "      <th>VB01002</th>\n",
              "      <th>VB01003</th>\n",
              "      <th>VB01004</th>\n",
              "      <th>VB01005</th>\n",
              "      <th>VB01006</th>\n",
              "      <th>VB01007</th>\n",
              "      <th>VB01008A</th>\n",
              "      <th>VB01010A</th>\n",
              "      <th>VB01011</th>\n",
              "      <th>VB01012</th>\n",
              "      <th>VB01013</th>\n",
              "      <th>VB01014</th>\n",
              "      <th>VB01015A</th>\n",
              "      <th>VB01016</th>\n",
              "      <th>VB01017</th>\n",
              "      <th>VB01018</th>\n",
              "      <th>VB01019</th>\n",
              "      <th>VB01020A</th>\n",
              "      <th>VB01021</th>\n",
              "      <th>VB01022</th>\n",
              "      <th>VB01023</th>\n",
              "      <th>VB01024</th>\n",
              "      <th>VB01025</th>\n",
              "      <th>VB01026</th>\n",
              "      <th>VB02001</th>\n",
              "      <th>VB02002</th>\n",
              "      <th>VB02004A</th>\n",
              "      <th>VB02010</th>\n",
              "      <th>VB02011</th>\n",
              "      <th>VB02013</th>\n",
              "      <th>VB02017A</th>\n",
              "      <th>VB02018A</th>\n",
              "      <th>VB02019A</th>\n",
              "      <th>VB02020A</th>\n",
              "      <th>VB02021</th>\n",
              "      <th>...</th>\n",
              "      <th>VB11005</th>\n",
              "      <th>VB11006</th>\n",
              "      <th>VB11007</th>\n",
              "      <th>VB12001</th>\n",
              "      <th>VB12002</th>\n",
              "      <th>VB12003</th>\n",
              "      <th>VB13001</th>\n",
              "      <th>VB13002A</th>\n",
              "      <th>VB13004A</th>\n",
              "      <th>VB13005</th>\n",
              "      <th>VB13006</th>\n",
              "      <th>VB13007</th>\n",
              "      <th>VB13008</th>\n",
              "      <th>VB13009</th>\n",
              "      <th>VB14001</th>\n",
              "      <th>VB14002</th>\n",
              "      <th>VB16001A01</th>\n",
              "      <th>VB16001A02</th>\n",
              "      <th>VB16001A03</th>\n",
              "      <th>VB16001A04</th>\n",
              "      <th>VB16001A05</th>\n",
              "      <th>VB16001A06</th>\n",
              "      <th>VB16001A07</th>\n",
              "      <th>VB16001A08</th>\n",
              "      <th>VB17001</th>\n",
              "      <th>VB17002</th>\n",
              "      <th>VB17003</th>\n",
              "      <th>VB17004</th>\n",
              "      <th>VB17005</th>\n",
              "      <th>VB17006</th>\n",
              "      <th>ESTRATO_EXP</th>\n",
              "      <th>ESTRATOGEOREG</th>\n",
              "      <th>PESO</th>\n",
              "      <th>V0006</th>\n",
              "      <th>V0007</th>\n",
              "      <th>V0008</th>\n",
              "      <th>V0041</th>\n",
              "      <th>aluno</th>\n",
              "      <th>escola</th>\n",
              "      <th>turma</th>\n",
              "    </tr>\n",
              "  </thead>\n",
              "  <tbody>\n",
              "    <tr>\n",
              "      <th>0</th>\n",
              "      <td>2015</td>\n",
              "      <td>76</td>\n",
              "      <td>1</td>\n",
              "      <td>1</td>\n",
              "      <td>2</td>\n",
              "      <td>1</td>\n",
              "      <td>13</td>\n",
              "      <td>7</td>\n",
              "      <td>7</td>\n",
              "      <td>1</td>\n",
              "      <td>2</td>\n",
              "      <td>7</td>\n",
              "      <td>3</td>\n",
              "      <td>2</td>\n",
              "      <td>-1</td>\n",
              "      <td>1</td>\n",
              "      <td>1</td>\n",
              "      <td>1</td>\n",
              "      <td>1</td>\n",
              "      <td>1</td>\n",
              "      <td>2</td>\n",
              "      <td>4</td>\n",
              "      <td>2</td>\n",
              "      <td>4</td>\n",
              "      <td>1</td>\n",
              "      <td>2</td>\n",
              "      <td>2</td>\n",
              "      <td>5</td>\n",
              "      <td>1</td>\n",
              "      <td>8</td>\n",
              "      <td>3</td>\n",
              "      <td>4</td>\n",
              "      <td>3</td>\n",
              "      <td>6</td>\n",
              "      <td>6</td>\n",
              "      <td>1</td>\n",
              "      <td>6</td>\n",
              "      <td>1</td>\n",
              "      <td>-1</td>\n",
              "      <td>2</td>\n",
              "      <td>...</td>\n",
              "      <td>2</td>\n",
              "      <td>1</td>\n",
              "      <td>2</td>\n",
              "      <td>1</td>\n",
              "      <td>1</td>\n",
              "      <td>4</td>\n",
              "      <td>2</td>\n",
              "      <td>-1</td>\n",
              "      <td>3</td>\n",
              "      <td>1</td>\n",
              "      <td>1</td>\n",
              "      <td>-1</td>\n",
              "      <td>1</td>\n",
              "      <td>1</td>\n",
              "      <td>2</td>\n",
              "      <td>2</td>\n",
              "      <td>1</td>\n",
              "      <td>2</td>\n",
              "      <td>2</td>\n",
              "      <td>2</td>\n",
              "      <td>2</td>\n",
              "      <td>2</td>\n",
              "      <td>2</td>\n",
              "      <td>2</td>\n",
              "      <td>371.0</td>\n",
              "      <td>1570.0</td>\n",
              "      <td>37.1</td>\n",
              "      <td>157.0</td>\n",
              "      <td>2</td>\n",
              "      <td>1</td>\n",
              "      <td>1223</td>\n",
              "      <td>1</td>\n",
              "      <td>299.735235</td>\n",
              "      <td>1</td>\n",
              "      <td>2</td>\n",
              "      <td>4</td>\n",
              "      <td>1</td>\n",
              "      <td>1</td>\n",
              "      <td>1</td>\n",
              "      <td>296</td>\n",
              "    </tr>\n",
              "    <tr>\n",
              "      <th>1</th>\n",
              "      <td>2015</td>\n",
              "      <td>76</td>\n",
              "      <td>1</td>\n",
              "      <td>1</td>\n",
              "      <td>2</td>\n",
              "      <td>1</td>\n",
              "      <td>14</td>\n",
              "      <td>4</td>\n",
              "      <td>7</td>\n",
              "      <td>1</td>\n",
              "      <td>1</td>\n",
              "      <td>7</td>\n",
              "      <td>3</td>\n",
              "      <td>2</td>\n",
              "      <td>-1</td>\n",
              "      <td>1</td>\n",
              "      <td>1</td>\n",
              "      <td>1</td>\n",
              "      <td>1</td>\n",
              "      <td>1</td>\n",
              "      <td>2</td>\n",
              "      <td>2</td>\n",
              "      <td>2</td>\n",
              "      <td>4</td>\n",
              "      <td>1</td>\n",
              "      <td>2</td>\n",
              "      <td>2</td>\n",
              "      <td>5</td>\n",
              "      <td>3</td>\n",
              "      <td>8</td>\n",
              "      <td>2</td>\n",
              "      <td>1</td>\n",
              "      <td>8</td>\n",
              "      <td>8</td>\n",
              "      <td>6</td>\n",
              "      <td>1</td>\n",
              "      <td>1</td>\n",
              "      <td>5</td>\n",
              "      <td>-1</td>\n",
              "      <td>2</td>\n",
              "      <td>...</td>\n",
              "      <td>2</td>\n",
              "      <td>3</td>\n",
              "      <td>2</td>\n",
              "      <td>4</td>\n",
              "      <td>4</td>\n",
              "      <td>4</td>\n",
              "      <td>1</td>\n",
              "      <td>2</td>\n",
              "      <td>3</td>\n",
              "      <td>3</td>\n",
              "      <td>1</td>\n",
              "      <td>-1</td>\n",
              "      <td>1</td>\n",
              "      <td>1</td>\n",
              "      <td>2</td>\n",
              "      <td>2</td>\n",
              "      <td>2</td>\n",
              "      <td>2</td>\n",
              "      <td>2</td>\n",
              "      <td>1</td>\n",
              "      <td>2</td>\n",
              "      <td>2</td>\n",
              "      <td>2</td>\n",
              "      <td>2</td>\n",
              "      <td>502.0</td>\n",
              "      <td>1520.0</td>\n",
              "      <td>50.2</td>\n",
              "      <td>152.0</td>\n",
              "      <td>2</td>\n",
              "      <td>2</td>\n",
              "      <td>1223</td>\n",
              "      <td>1</td>\n",
              "      <td>355.170081</td>\n",
              "      <td>1</td>\n",
              "      <td>2</td>\n",
              "      <td>4</td>\n",
              "      <td>1</td>\n",
              "      <td>2</td>\n",
              "      <td>1</td>\n",
              "      <td>296</td>\n",
              "    </tr>\n",
              "    <tr>\n",
              "      <th>2</th>\n",
              "      <td>2015</td>\n",
              "      <td>76</td>\n",
              "      <td>1</td>\n",
              "      <td>1</td>\n",
              "      <td>1</td>\n",
              "      <td>4</td>\n",
              "      <td>13</td>\n",
              "      <td>6</td>\n",
              "      <td>7</td>\n",
              "      <td>1</td>\n",
              "      <td>1</td>\n",
              "      <td>5</td>\n",
              "      <td>5</td>\n",
              "      <td>2</td>\n",
              "      <td>-1</td>\n",
              "      <td>2</td>\n",
              "      <td>1</td>\n",
              "      <td>1</td>\n",
              "      <td>1</td>\n",
              "      <td>1</td>\n",
              "      <td>2</td>\n",
              "      <td>3</td>\n",
              "      <td>1</td>\n",
              "      <td>4</td>\n",
              "      <td>1</td>\n",
              "      <td>2</td>\n",
              "      <td>2</td>\n",
              "      <td>5</td>\n",
              "      <td>3</td>\n",
              "      <td>2</td>\n",
              "      <td>3</td>\n",
              "      <td>1</td>\n",
              "      <td>8</td>\n",
              "      <td>2</td>\n",
              "      <td>8</td>\n",
              "      <td>1</td>\n",
              "      <td>1</td>\n",
              "      <td>5</td>\n",
              "      <td>5</td>\n",
              "      <td>1</td>\n",
              "      <td>...</td>\n",
              "      <td>2</td>\n",
              "      <td>1</td>\n",
              "      <td>2</td>\n",
              "      <td>1</td>\n",
              "      <td>2</td>\n",
              "      <td>3</td>\n",
              "      <td>1</td>\n",
              "      <td>2</td>\n",
              "      <td>1</td>\n",
              "      <td>2</td>\n",
              "      <td>5</td>\n",
              "      <td>99</td>\n",
              "      <td>1</td>\n",
              "      <td>-1</td>\n",
              "      <td>2</td>\n",
              "      <td>2</td>\n",
              "      <td>1</td>\n",
              "      <td>1</td>\n",
              "      <td>1</td>\n",
              "      <td>1</td>\n",
              "      <td>1</td>\n",
              "      <td>1</td>\n",
              "      <td>1</td>\n",
              "      <td>1</td>\n",
              "      <td>482.0</td>\n",
              "      <td>1614.0</td>\n",
              "      <td>48.2</td>\n",
              "      <td>161.4</td>\n",
              "      <td>2</td>\n",
              "      <td>2</td>\n",
              "      <td>1223</td>\n",
              "      <td>1</td>\n",
              "      <td>299.735235</td>\n",
              "      <td>1</td>\n",
              "      <td>2</td>\n",
              "      <td>4</td>\n",
              "      <td>1</td>\n",
              "      <td>3</td>\n",
              "      <td>1</td>\n",
              "      <td>296</td>\n",
              "    </tr>\n",
              "    <tr>\n",
              "      <th>3</th>\n",
              "      <td>2015</td>\n",
              "      <td>76</td>\n",
              "      <td>1</td>\n",
              "      <td>1</td>\n",
              "      <td>1</td>\n",
              "      <td>1</td>\n",
              "      <td>14</td>\n",
              "      <td>6</td>\n",
              "      <td>7</td>\n",
              "      <td>1</td>\n",
              "      <td>1</td>\n",
              "      <td>7</td>\n",
              "      <td>4</td>\n",
              "      <td>2</td>\n",
              "      <td>-1</td>\n",
              "      <td>1</td>\n",
              "      <td>1</td>\n",
              "      <td>1</td>\n",
              "      <td>1</td>\n",
              "      <td>1</td>\n",
              "      <td>2</td>\n",
              "      <td>4</td>\n",
              "      <td>2</td>\n",
              "      <td>4</td>\n",
              "      <td>1</td>\n",
              "      <td>2</td>\n",
              "      <td>2</td>\n",
              "      <td>6</td>\n",
              "      <td>3</td>\n",
              "      <td>2</td>\n",
              "      <td>4</td>\n",
              "      <td>1</td>\n",
              "      <td>3</td>\n",
              "      <td>2</td>\n",
              "      <td>7</td>\n",
              "      <td>1</td>\n",
              "      <td>5</td>\n",
              "      <td>1</td>\n",
              "      <td>-1</td>\n",
              "      <td>2</td>\n",
              "      <td>...</td>\n",
              "      <td>2</td>\n",
              "      <td>1</td>\n",
              "      <td>2</td>\n",
              "      <td>2</td>\n",
              "      <td>2</td>\n",
              "      <td>4</td>\n",
              "      <td>1</td>\n",
              "      <td>10</td>\n",
              "      <td>3</td>\n",
              "      <td>1</td>\n",
              "      <td>2</td>\n",
              "      <td>-1</td>\n",
              "      <td>1</td>\n",
              "      <td>-1</td>\n",
              "      <td>2</td>\n",
              "      <td>2</td>\n",
              "      <td>1</td>\n",
              "      <td>2</td>\n",
              "      <td>2</td>\n",
              "      <td>2</td>\n",
              "      <td>1</td>\n",
              "      <td>2</td>\n",
              "      <td>2</td>\n",
              "      <td>2</td>\n",
              "      <td>694.0</td>\n",
              "      <td>1725.0</td>\n",
              "      <td>69.4</td>\n",
              "      <td>172.5</td>\n",
              "      <td>2</td>\n",
              "      <td>3</td>\n",
              "      <td>1223</td>\n",
              "      <td>1</td>\n",
              "      <td>355.170081</td>\n",
              "      <td>1</td>\n",
              "      <td>2</td>\n",
              "      <td>4</td>\n",
              "      <td>1</td>\n",
              "      <td>4</td>\n",
              "      <td>1</td>\n",
              "      <td>296</td>\n",
              "    </tr>\n",
              "    <tr>\n",
              "      <th>4</th>\n",
              "      <td>2015</td>\n",
              "      <td>76</td>\n",
              "      <td>1</td>\n",
              "      <td>1</td>\n",
              "      <td>1</td>\n",
              "      <td>1</td>\n",
              "      <td>13</td>\n",
              "      <td>9</td>\n",
              "      <td>7</td>\n",
              "      <td>1</td>\n",
              "      <td>2</td>\n",
              "      <td>5</td>\n",
              "      <td>4</td>\n",
              "      <td>2</td>\n",
              "      <td>-1</td>\n",
              "      <td>2</td>\n",
              "      <td>1</td>\n",
              "      <td>1</td>\n",
              "      <td>1</td>\n",
              "      <td>1</td>\n",
              "      <td>2</td>\n",
              "      <td>5</td>\n",
              "      <td>1</td>\n",
              "      <td>4</td>\n",
              "      <td>1</td>\n",
              "      <td>2</td>\n",
              "      <td>2</td>\n",
              "      <td>6</td>\n",
              "      <td>5</td>\n",
              "      <td>6</td>\n",
              "      <td>3</td>\n",
              "      <td>5</td>\n",
              "      <td>2</td>\n",
              "      <td>6</td>\n",
              "      <td>2</td>\n",
              "      <td>1</td>\n",
              "      <td>5</td>\n",
              "      <td>1</td>\n",
              "      <td>5</td>\n",
              "      <td>1</td>\n",
              "      <td>...</td>\n",
              "      <td>2</td>\n",
              "      <td>1</td>\n",
              "      <td>4</td>\n",
              "      <td>2</td>\n",
              "      <td>2</td>\n",
              "      <td>4</td>\n",
              "      <td>1</td>\n",
              "      <td>3</td>\n",
              "      <td>2</td>\n",
              "      <td>2</td>\n",
              "      <td>2</td>\n",
              "      <td>13</td>\n",
              "      <td>1</td>\n",
              "      <td>-1</td>\n",
              "      <td>1</td>\n",
              "      <td>2</td>\n",
              "      <td>1</td>\n",
              "      <td>1</td>\n",
              "      <td>1</td>\n",
              "      <td>1</td>\n",
              "      <td>1</td>\n",
              "      <td>1</td>\n",
              "      <td>1</td>\n",
              "      <td>1</td>\n",
              "      <td>789.0</td>\n",
              "      <td>1675.0</td>\n",
              "      <td>78.9</td>\n",
              "      <td>167.5</td>\n",
              "      <td>2</td>\n",
              "      <td>4</td>\n",
              "      <td>1223</td>\n",
              "      <td>1</td>\n",
              "      <td>299.735235</td>\n",
              "      <td>1</td>\n",
              "      <td>2</td>\n",
              "      <td>4</td>\n",
              "      <td>1</td>\n",
              "      <td>5</td>\n",
              "      <td>1</td>\n",
              "      <td>296</td>\n",
              "    </tr>\n",
              "  </tbody>\n",
              "</table>\n",
              "<p>5 rows × 181 columns</p>\n",
              "</div>"
            ],
            "text/plain": [
              "   ANOPESQ  PAIS  REGEOGR  VB00004  VB01001  ...  V0008  V0041  aluno  escola  turma\n",
              "0     2015    76        1        1        2  ...      4      1      1       1    296\n",
              "1     2015    76        1        1        2  ...      4      1      2       1    296\n",
              "2     2015    76        1        1        1  ...      4      1      3       1    296\n",
              "3     2015    76        1        1        1  ...      4      1      4       1    296\n",
              "4     2015    76        1        1        1  ...      4      1      5       1    296\n",
              "\n",
              "[5 rows x 181 columns]"
            ]
          },
          "metadata": {
            "tags": []
          },
          "execution_count": 127
        }
      ]
    },
    {
      "cell_type": "markdown",
      "metadata": {
        "id": "GTXfb4sc1Xr9"
      },
      "source": [
        "Coluna VB01001 é relativa ao sexo do aluno\n",
        "\n",
        "Coluna VB11007 é marcação de grau de saatisfação com o corpo\n",
        "1. Muito satisfeito,\n",
        "2.Satisfeito,\n",
        "3.Indiferente,\n",
        "4.Insatisfeito,\n",
        "5.Muito insatisfeito,\n",
        "99.Não informado\n",
        "\n",
        "Coluna VB17003 registro do peso.\n",
        "\n",
        "Coluna VB17004 registro da altura."
      ]
    },
    {
      "cell_type": "markdown",
      "metadata": {
        "id": "PyalEE4pZ1d3"
      },
      "source": [
        "## Análise dos dados"
      ]
    },
    {
      "cell_type": "markdown",
      "metadata": {
        "id": "GiaKA8Tf84oQ"
      },
      "source": [
        "###Classe Sexo"
      ]
    },
    {
      "cell_type": "code",
      "metadata": {
        "colab": {
          "base_uri": "https://localhost:8080/",
          "height": 408
        },
        "id": "3qj8sq8V1AyG",
        "outputId": "fd99f833-dfb9-4bae-b68d-5cf6b8efa7ec"
      },
      "source": [
        "percent_sexo = dados[\"VB01001\"].value_counts(normalize=\"true\") * 100\n",
        "\n",
        "Leg_VB01001 = {1:\"Masculino\", 2:\"Feminino\"}\n",
        "\n",
        "df_sexo = pd.DataFrame({\"Percentual\":percent_sexo})\n",
        "\n",
        "df_sexo.rename(index = Leg_VB01001, inplace = True)\n",
        "df_sexo.rename_axis(\"Sexo\", axis=1, inplace = True)\n",
        "\n",
        "df_sexo.plot.pie(subplots=True, figsize=(6,6))\n",
        "\n",
        "print(df_sexo)\n"
      ],
      "execution_count": 128,
      "outputs": [
        {
          "output_type": "stream",
          "text": [
            "Sexo       Percentual\n",
            "Masculino   50.054361\n",
            "Feminino    49.945639\n"
          ],
          "name": "stdout"
        },
        {
          "output_type": "display_data",
          "data": {
            "image/png": "[encoded data removed]",
            "text/plain": [
              "<Figure size 432x432 with 1 Axes>"
            ]
          },
          "metadata": {
            "tags": []
          }
        }
      ]
    },
    {
      "cell_type": "markdown",
      "metadata": {
        "id": "JVzk1o1GZkc-"
      },
      "source": [
        "* Amostra balanceada com uma diferença de 0,5%."
      ]
    },
    {
      "cell_type": "markdown",
      "metadata": {
        "id": "AFXghnnl89bh"
      },
      "source": [
        "###Classe de Satisfação"
      ]
    },
    {
      "cell_type": "code",
      "metadata": {
        "colab": {
          "base_uri": "https://localhost:8080/",
          "height": 235
        },
        "id": "8vAcGHBg2gl2",
        "outputId": "56f03324-9171-43fa-e461-cb4fa80338b1"
      },
      "source": [
        "freq_satisf_corpo = dados[\"VB11007\"].value_counts()\n",
        "percent_satisf_corpo = dados[\"VB11007\"].value_counts(normalize=\"true\") * 100\n",
        "percent_satisf_corpo\n",
        "\n",
        "Leg_VB11007 = {\n",
        "      1:\"Muito satisfeito\",\n",
        "      2:\"Satisfeito\",\n",
        "      3:\"Indiferente\",\n",
        "      4:\"Insatisfeito\",\n",
        "      5:\"Muito insatisfeito\",\n",
        "      99:\"Não informado\"\n",
        "}\n",
        "\n",
        "df_dist_freq = pd.DataFrame({\"Frequencia\":freq_satisf_corpo, \"Percentual\":percent_satisf_corpo})\n",
        "\n",
        "df_dist_freq.rename(index = Leg_VB11007, inplace = True)\n",
        "df_dist_freq.rename_axis(\"Satisfação em relação ao seu corpo\", axis=1, inplace = True)\n",
        "df_dist_freq"
      ],
      "execution_count": 129,
      "outputs": [
        {
          "output_type": "execute_result",
          "data": {
            "text/html": [
              "<div>\n",
              "<style scoped>\n",
              "    .dataframe tbody tr th:only-of-type {\n",
              "        vertical-align: middle;\n",
              "    }\n",
              "\n",
              "    .dataframe tbody tr th {\n",
              "        vertical-align: top;\n",
              "    }\n",
              "\n",
              "    .dataframe thead th {\n",
              "        text-align: right;\n",
              "    }\n",
              "</style>\n",
              "<table border=\"1\" class=\"dataframe\">\n",
              "  <thead>\n",
              "    <tr style=\"text-align: right;\">\n",
              "      <th>Satisfação em relação ao seu corpo</th>\n",
              "      <th>Frequencia</th>\n",
              "      <th>Percentual</th>\n",
              "    </tr>\n",
              "  </thead>\n",
              "  <tbody>\n",
              "    <tr>\n",
              "      <th>Satisfeito</th>\n",
              "      <td>6920</td>\n",
              "      <td>41.797536</td>\n",
              "    </tr>\n",
              "    <tr>\n",
              "      <th>Muito satisfeito</th>\n",
              "      <td>4608</td>\n",
              "      <td>27.832810</td>\n",
              "    </tr>\n",
              "    <tr>\n",
              "      <th>Insatisfeito</th>\n",
              "      <td>2326</td>\n",
              "      <td>14.049287</td>\n",
              "    </tr>\n",
              "    <tr>\n",
              "      <th>Indiferente</th>\n",
              "      <td>1807</td>\n",
              "      <td>10.914472</td>\n",
              "    </tr>\n",
              "    <tr>\n",
              "      <th>Muito insatisfeito</th>\n",
              "      <td>714</td>\n",
              "      <td>4.312636</td>\n",
              "    </tr>\n",
              "    <tr>\n",
              "      <th>Não informado</th>\n",
              "      <td>181</td>\n",
              "      <td>1.093259</td>\n",
              "    </tr>\n",
              "  </tbody>\n",
              "</table>\n",
              "</div>"
            ],
            "text/plain": [
              "Satisfação em relação ao seu corpo  Frequencia  Percentual\n",
              "Satisfeito                                6920   41.797536\n",
              "Muito satisfeito                          4608   27.832810\n",
              "Insatisfeito                              2326   14.049287\n",
              "Indiferente                               1807   10.914472\n",
              "Muito insatisfeito                         714    4.312636\n",
              "Não informado                              181    1.093259"
            ]
          },
          "metadata": {
            "tags": []
          },
          "execution_count": 129
        }
      ]
    },
    {
      "cell_type": "markdown",
      "metadata": {
        "id": "44i66M1BNAEk"
      },
      "source": [
        "* Observamos que a maior parte dos alunos está satisfeito com em relação com seu corpo.\n",
        "* O grupo de insatisfeitos representa menos de 20% do total.\n",
        "\n",
        "Abaixo, dividimos a amostra pelo sexo, apresentado da tabela e no gráfico.\n"
      ]
    },
    {
      "cell_type": "code",
      "metadata": {
        "colab": {
          "base_uri": "https://localhost:8080/",
          "height": 266
        },
        "id": "T8jYme9rILka",
        "outputId": "75ab1e0e-33dc-4f1e-fef6-2175cc6a41b9"
      },
      "source": [
        "cross_classe_satisf = pd.crosstab(dados[\"VB11007\"], dados[\"VB01001\"],  normalize = True) * 100\n",
        "cross_classe_satisf.rename(index = Leg_VB11007, columns=Leg_VB01001, inplace = True)\n",
        "cross_classe_satisf\n"
      ],
      "execution_count": 130,
      "outputs": [
        {
          "output_type": "execute_result",
          "data": {
            "text/html": [
              "<div>\n",
              "<style scoped>\n",
              "    .dataframe tbody tr th:only-of-type {\n",
              "        vertical-align: middle;\n",
              "    }\n",
              "\n",
              "    .dataframe tbody tr th {\n",
              "        vertical-align: top;\n",
              "    }\n",
              "\n",
              "    .dataframe thead th {\n",
              "        text-align: right;\n",
              "    }\n",
              "</style>\n",
              "<table border=\"1\" class=\"dataframe\">\n",
              "  <thead>\n",
              "    <tr style=\"text-align: right;\">\n",
              "      <th>VB01001</th>\n",
              "      <th>Masculino</th>\n",
              "      <th>Feminino</th>\n",
              "    </tr>\n",
              "    <tr>\n",
              "      <th>VB11007</th>\n",
              "      <th></th>\n",
              "      <th></th>\n",
              "    </tr>\n",
              "  </thead>\n",
              "  <tbody>\n",
              "    <tr>\n",
              "      <th>Muito satisfeito</th>\n",
              "      <td>16.199565</td>\n",
              "      <td>11.633245</td>\n",
              "    </tr>\n",
              "    <tr>\n",
              "      <th>Satisfeito</th>\n",
              "      <td>21.079971</td>\n",
              "      <td>20.717565</td>\n",
              "    </tr>\n",
              "    <tr>\n",
              "      <th>Indiferente</th>\n",
              "      <td>5.738101</td>\n",
              "      <td>5.176371</td>\n",
              "    </tr>\n",
              "    <tr>\n",
              "      <th>Insatisfeito</th>\n",
              "      <td>4.747524</td>\n",
              "      <td>9.301764</td>\n",
              "    </tr>\n",
              "    <tr>\n",
              "      <th>Muito insatisfeito</th>\n",
              "      <td>1.570428</td>\n",
              "      <td>2.742208</td>\n",
              "    </tr>\n",
              "    <tr>\n",
              "      <th>Não informado</th>\n",
              "      <td>0.718773</td>\n",
              "      <td>0.374487</td>\n",
              "    </tr>\n",
              "  </tbody>\n",
              "</table>\n",
              "</div>"
            ],
            "text/plain": [
              "VB01001             Masculino   Feminino\n",
              "VB11007                                 \n",
              "Muito satisfeito    16.199565  11.633245\n",
              "Satisfeito          21.079971  20.717565\n",
              "Indiferente          5.738101   5.176371\n",
              "Insatisfeito         4.747524   9.301764\n",
              "Muito insatisfeito   1.570428   2.742208\n",
              "Não informado        0.718773   0.374487"
            ]
          },
          "metadata": {
            "tags": []
          },
          "execution_count": 130
        }
      ]
    },
    {
      "cell_type": "code",
      "metadata": {
        "colab": {
          "base_uri": "https://localhost:8080/",
          "height": 481
        },
        "id": "sZGQyxx-ReL7",
        "outputId": "0b93af21-8cb8-48f1-aeb8-d24ff89117a6"
      },
      "source": [
        "cross_classe_satisf.plot.bar(stacked=True, figsize=(6,6))\n"
      ],
      "execution_count": 131,
      "outputs": [
        {
          "output_type": "execute_result",
          "data": {
            "text/plain": [
              "<matplotlib.axes._subplots.AxesSubplot at 0x7fe77e392050>"
            ]
          },
          "metadata": {
            "tags": []
          },
          "execution_count": 131
        },
        {
          "output_type": "display_data",
          "data": {
            "image/png": "[encoded data removed]",
            "text/plain": [
              "<Figure size 432x432 with 1 Axes>"
            ]
          },
          "metadata": {
            "tags": [],
            "needs_background": "light"
          }
        }
      ]
    },
    {
      "cell_type": "markdown",
      "metadata": {
        "id": "kn8I5cvgMlvH"
      },
      "source": [
        "* Observamos que entre os grupos de satisfação, a classe masculina é mais satisfeita e menos insafisfeita que a classe feminina.\n",
        "\n",
        "**Para uma análise mais detalhada, deduziremos a amostra ao grupo que demonstrou-se insatisfeito ou muito insatisfeito.**"
      ]
    },
    {
      "cell_type": "code",
      "metadata": {
        "id": "oIDCgkJLJadz"
      },
      "source": [
        "dados = dados[(dados['VB11007']==4) | (dados['VB11007'] == 5)]"
      ],
      "execution_count": 132,
      "outputs": []
    },
    {
      "cell_type": "markdown",
      "metadata": {
        "id": "-OzSml5l9Jwp"
      },
      "source": [
        "###Classe IMC"
      ]
    },
    {
      "cell_type": "markdown",
      "metadata": {
        "id": "p-qmB9K39xUp"
      },
      "source": [
        "Cálculo Indice Massa Corporal - IMC\n",
        "\n",
        "O indice de massa corporal é dados pela razão entre o PESO pela ALTURA ao quadrado. A coluna com dados de PESO é a VB17003 de ALTURA é a VB17004.\n",
        "Acrescentei ao dataframe, uma coluna com o IMC já calculado. Mais detalhes sobre IMC e sua verificação neste [link](https://pt.wikipedia.org/wiki/%C3%8Dndice_de_massa_corporal#:~:text=8%20Refer%C3%AAncias-,Como%20calcular,e%20a%20altura%20em%20metros.).\n",
        "\n",
        "Após o cálculo, foi feita uma comparação e atribuição de legendas, utilizando a seguinte tabela de atribuição:\n",
        "\n",
        "|Resultado|Situação|\n",
        "|--------------|---------------------|\n",
        "|Abaixo de 17\t|Muito abaixo do peso|\n",
        "|Entre 17 e 18,49\t|Abaixo do peso|\n",
        "|Entre 18,50 e 24,99\t|Peso normal|\n",
        "|Entre 25 e 29,99\t|Acima do peso|\n",
        "|Entre 30 e 34,99\t|Obesidade I|\n",
        "|Entre 35 e 39,99\t|Obesidade II (severa)|\n",
        "|Acima de 40\t|Obesidade III (mórbida)|\n",
        "\n",
        "**Lembrando que neste ponto, o cálculo do IMC foi feito somente para o grupo que apresentou insatisfação com o corpo.**"
      ]
    },
    {
      "cell_type": "code",
      "metadata": {
        "colab": {
          "base_uri": "https://localhost:8080/",
          "height": 142
        },
        "id": "nfAb70g88LS6",
        "outputId": "677de45e-df5e-4cf9-c3c1-c5a82f97b758"
      },
      "source": [
        "# Cálculo IMC\n",
        "dados[\"IMC\"] = dados[\"VB17003\"]/((dados[\"VB17004\"]/100)**2)\n",
        "# Range para legendas\n",
        "resultado = [0,18.5,30,70]\n",
        "legendas = [\"Abaixo do peso\", \"Peso normal\", \"Obesidade\"]\n",
        "# Incremento no dataframe da coluna CLASSE_IMC\n",
        "dados[\"CLASSE_IMC\"] = pd.cut(x = dados[\"IMC\"],\n",
        "       bins = resultado,\n",
        "       labels = legendas,\n",
        "       include_lowest = True)\n",
        "# Frequencia e percentuais da CLASSE_IMC\n",
        "freq_classe_imc = dados[\"CLASSE_IMC\"].value_counts()\n",
        "perc_classe_imc = dados[\"CLASSE_IMC\"].value_counts(normalize=\"true\") * 100\n",
        "\n",
        "dist_freq_imc = pd.DataFrame({\"Frequencia\":freq_classe_imc, \"Percentual\":perc_classe_imc})\n",
        "dist_freq_imc.rename_axis(\"Classe IMC\", axis=1, inplace = True)\n",
        "\n",
        "dist_freq_imc"
      ],
      "execution_count": 133,
      "outputs": [
        {
          "output_type": "execute_result",
          "data": {
            "text/html": [
              "<div>\n",
              "<style scoped>\n",
              "    .dataframe tbody tr th:only-of-type {\n",
              "        vertical-align: middle;\n",
              "    }\n",
              "\n",
              "    .dataframe tbody tr th {\n",
              "        vertical-align: top;\n",
              "    }\n",
              "\n",
              "    .dataframe thead th {\n",
              "        text-align: right;\n",
              "    }\n",
              "</style>\n",
              "<table border=\"1\" class=\"dataframe\">\n",
              "  <thead>\n",
              "    <tr style=\"text-align: right;\">\n",
              "      <th>Classe IMC</th>\n",
              "      <th>Frequencia</th>\n",
              "      <th>Percentual</th>\n",
              "    </tr>\n",
              "  </thead>\n",
              "  <tbody>\n",
              "    <tr>\n",
              "      <th>Peso normal</th>\n",
              "      <td>2134</td>\n",
              "      <td>70.197368</td>\n",
              "    </tr>\n",
              "    <tr>\n",
              "      <th>Abaixo do peso</th>\n",
              "      <td>622</td>\n",
              "      <td>20.460526</td>\n",
              "    </tr>\n",
              "    <tr>\n",
              "      <th>Obesidade</th>\n",
              "      <td>284</td>\n",
              "      <td>9.342105</td>\n",
              "    </tr>\n",
              "  </tbody>\n",
              "</table>\n",
              "</div>"
            ],
            "text/plain": [
              "Classe IMC      Frequencia  Percentual\n",
              "Peso normal           2134   70.197368\n",
              "Abaixo do peso         622   20.460526\n",
              "Obesidade              284    9.342105"
            ]
          },
          "metadata": {
            "tags": []
          },
          "execution_count": 133
        }
      ]
    },
    {
      "cell_type": "markdown",
      "metadata": {
        "id": "QsOYjM3GXT-P"
      },
      "source": [
        "* Observamos que, dos 18,36% declarados insatisfeitos, aproximadamente 70% está no peso normal. Dos outros 30, dois terços está abaixo do peso e os demais na faixa da obesidade. Esse percentual insatisfeito e fora do IMC considerado normal, representa 5,5% do total da amostra.\n",
        "\n",
        "* Interessante uma análise cruzada com a faixa de renda para identificar o grupo o comportamento do grupo abaixo do peso.\n",
        "\n"
      ]
    },
    {
      "cell_type": "markdown",
      "metadata": {
        "id": "vfwLnzmlZGpP"
      },
      "source": [
        "* Observamos no gráfico abaixo que o box apresenta uma distribuição simétrica com vários outliers a direita, para valores de IMC maiores que 30.\n",
        "\n"
      ]
    },
    {
      "cell_type": "code",
      "metadata": {
        "colab": {
          "base_uri": "https://localhost:8080/",
          "height": 350
        },
        "id": "DxnMuT3SV1qE",
        "outputId": "cae7d7f2-9828-412f-c358-5b3a39950d6c"
      },
      "source": [
        "bp = sns.boxplot(x = \"IMC\", data = dados)\n",
        "bp.figure.set_size_inches(10, 5)\n",
        "bp.set_title(\"Análise do IMC por Boxplot\")\n",
        "bp.set_xlabel(\"IMC\")\n",
        "bp;"
      ],
      "execution_count": 134,
      "outputs": [
        {
          "output_type": "display_data",
          "data": {
            "image/png": "[encoded data removed]",
            "text/plain": [
              "<Figure size 720x360 with 1 Axes>"
            ]
          },
          "metadata": {
            "tags": [],
            "needs_background": "light"
          }
        }
      ]
    },
    {
      "cell_type": "markdown",
      "metadata": {
        "id": "egrwIQkRcOho"
      },
      "source": [
        "\n",
        "**Reduziremos a amostra aos 30% de insatisfeitos fora do IMC normal para uma análise segmentada por sexo.**\n",
        "\n",
        "* Na segmentação abaixo, fica observamos que três quintos do grupo de insatisfeitos estão na classe feminina.\n",
        "* A razão de insatisfeitos por estar abaixo do peso é de dois terço em relação aos obesos."
      ]
    },
    {
      "cell_type": "code",
      "metadata": {
        "colab": {
          "base_uri": "https://localhost:8080/",
          "height": 142
        },
        "id": "9XSQUiOsWCgP",
        "outputId": "e686c607-112a-4b06-b6ec-2f6790edcbc9"
      },
      "source": [
        "dados = dados[(dados['CLASSE_IMC']=='Abaixo do peso') | (dados['CLASSE_IMC'] == 'Obesidade')]\n",
        "dados['VB11007']\n",
        "\n",
        "cross_classe_sexo = pd.crosstab(dados[\"VB01001\"], dados[\"CLASSE_IMC\"], normalize = True) * 100\n",
        "cross_classe_sexo.rename(index = Leg_VB01001, columns=Leg_VB11007, inplace = True)\n",
        "cross_classe_sexo['Total'] = cross_classe_sexo.sum(axis=1)\n",
        "cross_classe_sexo"
      ],
      "execution_count": 135,
      "outputs": [
        {
          "output_type": "execute_result",
          "data": {
            "text/html": [
              "<div>\n",
              "<style scoped>\n",
              "    .dataframe tbody tr th:only-of-type {\n",
              "        vertical-align: middle;\n",
              "    }\n",
              "\n",
              "    .dataframe tbody tr th {\n",
              "        vertical-align: top;\n",
              "    }\n",
              "\n",
              "    .dataframe thead th {\n",
              "        text-align: right;\n",
              "    }\n",
              "</style>\n",
              "<table border=\"1\" class=\"dataframe\">\n",
              "  <thead>\n",
              "    <tr style=\"text-align: right;\">\n",
              "      <th>CLASSE_IMC</th>\n",
              "      <th>Abaixo do peso</th>\n",
              "      <th>Obesidade</th>\n",
              "      <th>Total</th>\n",
              "    </tr>\n",
              "    <tr>\n",
              "      <th>VB01001</th>\n",
              "      <th></th>\n",
              "      <th></th>\n",
              "      <th></th>\n",
              "    </tr>\n",
              "  </thead>\n",
              "  <tbody>\n",
              "    <tr>\n",
              "      <th>Masculino</th>\n",
              "      <td>25.717439</td>\n",
              "      <td>12.141280</td>\n",
              "      <td>37.85872</td>\n",
              "    </tr>\n",
              "    <tr>\n",
              "      <th>Feminino</th>\n",
              "      <td>42.935982</td>\n",
              "      <td>19.205298</td>\n",
              "      <td>62.14128</td>\n",
              "    </tr>\n",
              "  </tbody>\n",
              "</table>\n",
              "</div>"
            ],
            "text/plain": [
              "CLASSE_IMC  Abaixo do peso  Obesidade     Total\n",
              "VB01001                                        \n",
              "Masculino        25.717439  12.141280  37.85872\n",
              "Feminino         42.935982  19.205298  62.14128"
            ]
          },
          "metadata": {
            "tags": []
          },
          "execution_count": 135
        }
      ]
    },
    {
      "cell_type": "code",
      "metadata": {
        "colab": {
          "base_uri": "https://localhost:8080/",
          "height": 142
        },
        "id": "LFDfJWUFJUAm",
        "outputId": "2984c7a6-be0e-4349-b60b-a7562c0eb9d3"
      },
      "source": [
        "cross_classe_satisf = pd.crosstab(dados[\"VB11007\"], dados[\"CLASSE_IMC\"],  normalize = True) * 100\n",
        "cross_classe_satisf.rename(index = Leg_VB11007,  inplace = True)\n",
        "\n",
        "cross_classe_satisf"
      ],
      "execution_count": 136,
      "outputs": [
        {
          "output_type": "execute_result",
          "data": {
            "text/html": [
              "<div>\n",
              "<style scoped>\n",
              "    .dataframe tbody tr th:only-of-type {\n",
              "        vertical-align: middle;\n",
              "    }\n",
              "\n",
              "    .dataframe tbody tr th {\n",
              "        vertical-align: top;\n",
              "    }\n",
              "\n",
              "    .dataframe thead th {\n",
              "        text-align: right;\n",
              "    }\n",
              "</style>\n",
              "<table border=\"1\" class=\"dataframe\">\n",
              "  <thead>\n",
              "    <tr style=\"text-align: right;\">\n",
              "      <th>CLASSE_IMC</th>\n",
              "      <th>Abaixo do peso</th>\n",
              "      <th>Obesidade</th>\n",
              "    </tr>\n",
              "    <tr>\n",
              "      <th>VB11007</th>\n",
              "      <th></th>\n",
              "      <th></th>\n",
              "    </tr>\n",
              "  </thead>\n",
              "  <tbody>\n",
              "    <tr>\n",
              "      <th>Insatisfeito</th>\n",
              "      <td>49.889625</td>\n",
              "      <td>21.743929</td>\n",
              "    </tr>\n",
              "    <tr>\n",
              "      <th>Muito insatisfeito</th>\n",
              "      <td>18.763797</td>\n",
              "      <td>9.602649</td>\n",
              "    </tr>\n",
              "  </tbody>\n",
              "</table>\n",
              "</div>"
            ],
            "text/plain": [
              "CLASSE_IMC          Abaixo do peso  Obesidade\n",
              "VB11007                                      \n",
              "Insatisfeito             49.889625  21.743929\n",
              "Muito insatisfeito       18.763797   9.602649"
            ]
          },
          "metadata": {
            "tags": []
          },
          "execution_count": 136
        }
      ]
    },
    {
      "cell_type": "markdown",
      "metadata": {
        "id": "lFW1Zqhe9ZVh"
      },
      "source": [
        "## Conclusões\n",
        "\n"
      ]
    },
    {
      "cell_type": "markdown",
      "metadata": {
        "id": "HSFtOkESUEsQ"
      },
      "source": [
        "* Concluímos que, mais de 80% dos nossos alunos, declaram estar satisfeitos com seu corpo, não opinaram ou são indiferentes a este assunto. \n",
        "\n",
        "* Analisando mais de perto os que declaram insatisfação, apenas 29,8% apresentaram problemas com peso (5,5% do total), estando abaixo ou acima do seu peso. O IMC pode não ser a causa exata, mas é um parâmetro que ajuda a apontar outros problemas sociais como desnutrição, renda, ansiedade, saúde entre outros.\n",
        "\n",
        "* Deste 5,5% da amostra total, que declara insatisfação e sinalizam probelams com peso, 62% é do público feminino, dividindo a amostra em 3,5% de meninas e 2% de meninos aproximadamente.\n",
        "\n",
        "* Temos mais jovem insatisfeitos com o corpo por estarem abaixo do peso so que por serem obesos e a maioria são meninas.\n",
        "\n",
        "* Pode parecer pouco, mas em 2020 foram 47,3 milhões de matrículas realizadas nas escolas público e privadas do país. Isso dá mais de 2,5 milhões de alunos que enfrentam dificuldades de auto-estima por se sentirem insatisfeitos com padrões corporais. \n"
      ]
    }
  ]
}